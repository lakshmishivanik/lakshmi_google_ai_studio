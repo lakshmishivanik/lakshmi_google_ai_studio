{
  "nbformat": 4,
  "nbformat_minor": 0,
  "metadata": {
    "colab": {
      "provenance": [],
      "toc_visible": true,
      "authorship_tag": "ABX9TyP9IKb6YcHaC/NN9mJ73YPP",
      "include_colab_link": true
    },
    "kernelspec": {
      "name": "python3",
      "display_name": "Python 3"
    },
    "language_info": {
      "name": "python"
    }
  },
  "cells": [
    {
      "cell_type": "markdown",
      "metadata": {
        "id": "view-in-github",
        "colab_type": "text"
      },
      "source": [
        "<a href=\"https://colab.research.google.com/github/lakshmishivanik/lakshmi_google_ai_studio/blob/main/Audio_capabilities.ipynb\" target=\"_parent\"><img src=\"https://colab.research.google.com/assets/colab-badge.svg\" alt=\"Open In Colab\"/></a>"
      ]
    },
    {
      "cell_type": "markdown",
      "source": [
        "#Copyright 2025 Google LLC.\n",
        "\n"
      ],
      "metadata": {
        "id": "TqtG0rzPR6hN"
      }
    },
    {
      "cell_type": "code",
      "source": [
        "# @title Licensed under the Apache License, Version 2.0 (the \"License\");\n",
        "#\n",
        "# Licensed under the Apache License, Version 2.0 (the \"License\");\n",
        "# you may not use this file except in compliance with the License.\n",
        "# You may obtain a copy of the License at\n",
        "#\n",
        "#     https://www.apache.org/licenses/LICENSE-2.0\n",
        "#\n",
        "# Unless required by applicable law or agreed to in writing, software\n",
        "# distributed under the License is distributed on an \"AS IS\" BASIS,\n",
        "# WITHOUT WARRANTIES OR CONDITIONS OF ANY KIND, either express or implied.\n",
        "# See the License for the specific language governing permissions and\n",
        "# limitations under the License."
      ],
      "metadata": {
        "cellView": "form",
        "id": "gNR_Pvo8U2BB"
      },
      "execution_count": null,
      "outputs": []
    },
    {
      "cell_type": "markdown",
      "source": [
        "# **Explore audio capabilities with the Gemini API**\n",
        "Gemini can respond to prompts about audio. For example, Gemini can:\n",
        "\n",
        "Describe, summarize, or answer questions about audio content.\n",
        "Provide a transcription of the audio.\n",
        "Provide answers or a transcription about a specific segment of the audio.\n",
        "\n",
        "**Note: You can't generate audio output with the Gemini API.**\n",
        "\n",
        "This guide demonstrates different ways to interact with audio files and audio content using the Gemini API.\n",
        "\n",
        "#Supported audio formats\n",
        "Gemini supports the following audio format MIME types:\n",
        "\n",
        "*   WAV - audio/wav\n",
        "*   MP3 - audio/mp3\n",
        "*   AIFF - audio/aiff\n",
        "*   AAC - audio/aac\n",
        "*   OGG Vorbis - audio/ogg\n",
        "*   FLAC - audio/flac\n",
        "\n",
        "#Technical details about audio\n",
        "Gemini imposes the following rules on audio:\n",
        "\n",
        "*   Gemini represents each second of audio as 25 tokens; for example, one minute of audio is represented as 1,500 tokens.\n",
        "*   Gemini can only infer responses to English-language speech.\n",
        "*   Gemini can \"understand\" non-speech components, such as birdsong or sirens.\n",
        "*   The maximum supported length of audio data in a single prompt is 9.5 hours. Gemini doesn't limit the number of audio files in a single prompt; however, the total combined length of all audio files in a single prompt cannot exceed 9.5 hours.\n",
        "*   Gemini downsamples audio files to a 16 Kbps data resolution.\n",
        "*   If the audio source contains multiple channels, Gemini combines those channels down to a single channel.\n",
        "\n",
        "\n",
        "\n",
        "\n",
        "\n",
        "\n"
      ],
      "metadata": {
        "id": "Z6l0K7w5UU2D"
      }
    },
    {
      "cell_type": "markdown",
      "source": [
        "# Before you begin: Set up your project and API key\n",
        "**Install the Gemini API library**\n",
        "\n",
        "Using Python 3.9+, install the google-genai package using the following pip command:"
      ],
      "metadata": {
        "id": "S6Ac9aNLUuIO"
      }
    },
    {
      "cell_type": "code",
      "execution_count": 1,
      "metadata": {
        "colab": {
          "base_uri": "https://localhost:8080/"
        },
        "id": "6JkqcgohJyqQ",
        "outputId": "41b57885-696e-4b0c-940c-acc84c97f520"
      },
      "outputs": [
        {
          "output_type": "stream",
          "name": "stdout",
          "text": [
            "\u001b[?25l   \u001b[90m━━━━━━━━━━━━━━━━━━━━━━━━━━━━━━━━━━━━━━━━\u001b[0m \u001b[32m0.0/137.7 kB\u001b[0m \u001b[31m?\u001b[0m eta \u001b[36m-:--:--\u001b[0m\r\u001b[2K   \u001b[91m━━━━━━━━━━━━━━━━━━━━━━━━━━━━━━━━━━━━━━\u001b[0m\u001b[91m╸\u001b[0m\u001b[90m━\u001b[0m \u001b[32m133.1/137.7 kB\u001b[0m \u001b[31m4.1 MB/s\u001b[0m eta \u001b[36m0:00:01\u001b[0m\r\u001b[2K   \u001b[90m━━━━━━━━━━━━━━━━━━━━━━━━━━━━━━━━━━━━━━━━\u001b[0m \u001b[32m137.7/137.7 kB\u001b[0m \u001b[31m2.9 MB/s\u001b[0m eta \u001b[36m0:00:00\u001b[0m\n",
            "\u001b[?25h"
          ]
        }
      ],
      "source": [
        "pip install -q -U google-genai\n"
      ]
    },
    {
      "cell_type": "markdown",
      "source": [
        "#Get and secure your API key\n",
        "You need an API key to call the Gemini API. If you don't already have one, create a key in Google AI Studio.\n",
        "\n",
        "Using Colab Secrets, you can ensure that your Gemini API key is managed securely and persistently in your Google Colab notebooks."
      ],
      "metadata": {
        "id": "GoCXXGB9c8QY"
      }
    },
    {
      "cell_type": "code",
      "source": [
        "from google import genai\n",
        "import os\n",
        "from google.colab import userdata  # Import for Colab Secrets\n",
        "\n",
        "# Retrieve API key from Colab Secrets\n",
        "try:\n",
        "    api_key = userdata.get('GOOGLE_GENAI_API_KEY')\n",
        "    print(\"API key successfully retrieved from Colab Secrets.\")  # Confirmation\n",
        "except KeyError:\n",
        "    raise ValueError(\n",
        "        \"GOOGLE_GENAI_API_KEY not found in Colab Secrets. Please configure your API key in Colab Secrets.\"\n",
        "    )"
      ],
      "metadata": {
        "colab": {
          "base_uri": "https://localhost:8080/"
        },
        "id": "hPW6Roff7YCr",
        "outputId": "3bf37bf3-d6a7-45bb-cd06-e2a1ab481332"
      },
      "execution_count": 2,
      "outputs": [
        {
          "output_type": "stream",
          "name": "stdout",
          "text": [
            "API key successfully retrieved from Colab Secrets.\n"
          ]
        }
      ]
    },
    {
      "cell_type": "markdown",
      "source": [
        "#Upload an audio file and generate content\n",
        "You can use the File API to upload an audio file of any size. Always use the File API when the total request size (including the files, text prompt, system instructions, etc.) is larger than 20 MB.\n",
        "\n",
        "Call media.upload to upload a file using the File API. The following code uploads an audio file and then uses the file in a call to models.generateContent.\n",
        "\n",
        "(NOTE:-To use this function, the file must be uploaded in google colab files folder and the uploaded file is available only during that particular runtime in which it was uploaded and gets deleted once that runtime is terminated)"
      ],
      "metadata": {
        "id": "W7E6SgGFeLMy"
      }
    },
    {
      "cell_type": "code",
      "source": [
        "#Upload an audio file and generate content\n",
        "from google import genai\n",
        "\n",
        "client = genai.Client(api_key=api_key)\n",
        "\n",
        "myfile = client.files.upload(file='/content/sample.mp3')\n",
        "\n",
        "response = client.models.generate_content(\n",
        "  model='gemini-2.0-flash',\n",
        "  contents=['Describe this audio clip', myfile]\n",
        ")\n",
        "\n",
        "print(response.text)"
      ],
      "metadata": {
        "colab": {
          "base_uri": "https://localhost:8080/"
        },
        "id": "irPmaPCgoCxh",
        "outputId": "a98b6684-7b3d-455a-a7fb-ab8f6e189984"
      },
      "execution_count": 3,
      "outputs": [
        {
          "output_type": "stream",
          "name": "stdout",
          "text": [
            "This is a recording of a male singer performing an acoustic cover of Ed Sheeran's song \"Perfect\". The audio quality is decent, and the singer accompanies himself with guitar.\n"
          ]
        }
      ]
    },
    {
      "cell_type": "markdown",
      "source": [
        "#Get metadata for a file\n",
        "You can verify the API successfully stored the uploaded file and get its metadata by calling files.get."
      ],
      "metadata": {
        "id": "znCJ4rQ1ewls"
      }
    },
    {
      "cell_type": "code",
      "source": [
        "#Get metadata for a file\n",
        "myfile = client.files.upload(file='/content/sample.mp3')\n",
        "file_name = myfile.name\n",
        "myfile = client.files.get(name=file_name)\n",
        "print(myfile)"
      ],
      "metadata": {
        "colab": {
          "base_uri": "https://localhost:8080/"
        },
        "id": "XDWKXN4Kr-ij",
        "outputId": "876c3b11-1cde-4e9b-ad0b-466470d77cf3"
      },
      "execution_count": 4,
      "outputs": [
        {
          "output_type": "stream",
          "name": "stdout",
          "text": [
            "name='files/tuz6eqqbcmgs' display_name=None mime_type='audio/mpeg' size_bytes=2097152 create_time=datetime.datetime(2025, 2, 26, 9, 19, 40, 670295, tzinfo=TzInfo(UTC)) expiration_time=datetime.datetime(2025, 2, 28, 9, 19, 40, 657852, tzinfo=TzInfo(UTC)) update_time=datetime.datetime(2025, 2, 26, 9, 19, 40, 670295, tzinfo=TzInfo(UTC)) sha256_hash='NjhkMThjNWUzMzdjYWY1NDAyOTkxMWM4MTdlNGFjNzQxNjVmZDBkN2IyNWJlYzI5NmUzMTNhOTk1NGYyZGFkYQ==' uri='https://generativelanguage.googleapis.com/v1beta/files/tuz6eqqbcmgs' download_uri=None state=<FileState.ACTIVE: 'ACTIVE'> source=<FileSource.UPLOADED: 'UPLOADED'> video_metadata=None error=None\n"
          ]
        }
      ]
    },
    {
      "cell_type": "markdown",
      "source": [
        "#List uploaded files\n",
        "You can upload multiple audio files (and other kinds of files). The following code generates a list of all the files uploaded:"
      ],
      "metadata": {
        "id": "UU9RYq-kfHpz"
      }
    },
    {
      "cell_type": "code",
      "source": [
        "#List uploaded files\n",
        "print('My files:')\n",
        "for f in client.files.list():\n",
        "    print(' ', f.name)"
      ],
      "metadata": {
        "colab": {
          "base_uri": "https://localhost:8080/"
        },
        "id": "PLGsdJJ4syHs",
        "outputId": "d990f0be-1d9c-4234-9cf7-2919a9718b21"
      },
      "execution_count": 5,
      "outputs": [
        {
          "output_type": "stream",
          "name": "stdout",
          "text": [
            "My files:\n",
            "  files/tuz6eqqbcmgs\n",
            "  files/wf3yfqu6ogvx\n",
            "  files/hl2ssbtkptlb\n",
            "  files/byez0y7tnyx5\n",
            "  files/befxceiov8sn\n",
            "  files/tc9069jdvdc8\n",
            "  files/jhyw18giw2jj\n",
            "  files/kf9uw7yncesk\n",
            "  files/9ko0mxy9ow87\n",
            "  files/nif3ng8o9hmk\n",
            "  files/oj2o1lvbr52l\n",
            "  files/apu6m5r2kohr\n",
            "  files/2i5bxrn7ehzk\n",
            "  files/lcz2hqi0hxng\n",
            "  files/soxm87ox36lx\n"
          ]
        }
      ]
    },
    {
      "cell_type": "markdown",
      "source": [
        "#Delete uploaded files\n",
        "Files are automatically deleted after 48 hours. Optionally, you can manually delete an uploaded file. For example:"
      ],
      "metadata": {
        "id": "MOQRLjfSfNiK"
      }
    },
    {
      "cell_type": "code",
      "source": [
        "#Delete uploaded files\n",
        "myfile = client.files.upload(file='/content/sample.mp3')\n",
        "client.files.delete(name=myfile.name)"
      ],
      "metadata": {
        "colab": {
          "base_uri": "https://localhost:8080/"
        },
        "id": "6syvH8I4s7d4",
        "outputId": "1d8a00b5-79a0-4043-d5ec-294214552dff"
      },
      "execution_count": 6,
      "outputs": [
        {
          "output_type": "execute_result",
          "data": {
            "text/plain": [
              "DeleteFileResponse()"
            ]
          },
          "metadata": {},
          "execution_count": 6
        }
      ]
    },
    {
      "cell_type": "markdown",
      "source": [
        "#Provide the audio file as inline data in the request\n",
        "Instead of uploading an audio file, you can pass audio data in the same call that contains the prompt.\n",
        "\n",
        "(Note the following about providing audio as inline data:-The maximum request size is 20 MB, which includes text prompts, system instructions, and files provided inline. If your file's size will make the total request size exceed 20 MB, then use the File API to upload files for use in requests.\n",
        "If you're using an audio sample multiple times, it is more efficient to use the File API.)\n",
        "\n",
        "Then, pass that downloaded small audio file along with the prompt to Gemini:"
      ],
      "metadata": {
        "id": "9O0BF9rRgi27"
      }
    },
    {
      "cell_type": "code",
      "source": [
        "#Provide the audio file as inline data in the request\n",
        "from google.genai import types\n",
        "\n",
        "with open('/content/sample.mp3', 'rb') as f:\n",
        "    image_bytes = f.read()\n",
        "\n",
        "response = client.models.generate_content(\n",
        "  model='gemini-2.0-flash',\n",
        "  contents=[\n",
        "    'Describe this audio clip',\n",
        "    types.Part.from_bytes(\n",
        "      data=image_bytes,\n",
        "      mime_type='audio/mp3',\n",
        "    )\n",
        "  ]\n",
        ")\n",
        "\n",
        "print(response.text)"
      ],
      "metadata": {
        "colab": {
          "base_uri": "https://localhost:8080/"
        },
        "id": "QFNFAMrktZoe",
        "outputId": "cfb66b72-eff9-45b2-9692-2366cf940673"
      },
      "execution_count": 7,
      "outputs": [
        {
          "output_type": "stream",
          "name": "stdout",
          "text": [
            "This is a recording of a male vocalist singing an acoustic song. It seems to be a cover, possibly of Ed Sheeran's \"Perfect,\" or a similar song. There's a simple instrumental backing, likely just an acoustic guitar and perhaps some subtle production enhancements to give it a polished feel. The singer has a pleasant voice and the overall quality is decent.\n",
            "\n"
          ]
        }
      ]
    },
    {
      "cell_type": "markdown",
      "source": [
        "#Get a transcript of the audio file\n",
        "To get a transcript, just ask for it in the prompt. For example:"
      ],
      "metadata": {
        "id": "RKOLN5Z0hPLH"
      }
    },
    {
      "cell_type": "code",
      "source": [
        "#To get a transcript, just ask for it in the prompt\n",
        "myfile = client.files.upload(file='/content/sample.mp3')\n",
        "prompt = 'Generate a transcript of the speech.'\n",
        "\n",
        "response = client.models.generate_content(\n",
        "  model='gemini-2.0-flash',\n",
        "  contents=[prompt, myfile]\n",
        ")\n",
        "\n",
        "print(response.text)"
      ],
      "metadata": {
        "colab": {
          "base_uri": "https://localhost:8080/"
        },
        "id": "p3oQNjzouQa2",
        "outputId": "f6b9f7a4-f90b-4cfa-ce06-41ac6dc3139b"
      },
      "execution_count": 9,
      "outputs": [
        {
          "output_type": "stream",
          "name": "stdout",
          "text": [
            "I found a love for me\n",
            "Darling just dive right in, and follow my lead\n",
            "Well I found a girl, beautiful and sweet\n",
            "I never knew you were the someone\n",
            "waiting for me\n",
            "'Cause we were just kids when we fell in love\n",
            "Not knowing what it was\n",
            "I will not give you up this time\n",
            "Darling, just kiss me slow, your heart is all\n",
            "I own\n",
            "And in your eyes, you're holding mine\n",
            "Baby, I'm dancing in the dark\n",
            "With you between my arms\n",
            "Barefoot on the grass\n",
            "Listening to our favorite song\n",
            "\n",
            "When you said you looked a mess,\n",
            "I whispered underneath my breath\n",
            "But you heard it, darling you look perfect tonight\n",
            "Well I found a woman,\n",
            "stronger than anyone I know\n",
            "She shares my dreams,\n",
            "I hope that someday I'll share her home\n",
            "I found a love,\n",
            "to carry more than just my secrets\n",
            "To carry love, to carry children\n",
            "\n"
          ]
        }
      ]
    },
    {
      "cell_type": "markdown",
      "source": [
        "#Get the duration of the audio file\n",
        "To get the duration, just ask for it in the prompt. For example:"
      ],
      "metadata": {
        "id": "ew9FuWEjhmLA"
      }
    },
    {
      "cell_type": "code",
      "source": [
        "# Create a prompt to analyze the duration of the file.\n",
        "myfile = client.files.upload(file='/content/sample.mp3')\n",
        "prompt = \"analyze and tell me how many minutes is the audio file\"\n",
        "\n",
        "response = client.models.generate_content(\n",
        "  model='gemini-2.0-flash',\n",
        "  contents=[prompt, myfile]\n",
        ")\n",
        "\n",
        "print(response.text)"
      ],
      "metadata": {
        "colab": {
          "base_uri": "https://localhost:8080/"
        },
        "id": "1LInmE5SvCUR",
        "outputId": "35f7a554-5c1a-4dff-edc0-db0bf305af02"
      },
      "execution_count": 10,
      "outputs": [
        {
          "output_type": "stream",
          "name": "stdout",
          "text": [
            "The audio file is 3 minutes and 51 seconds long.\n"
          ]
        }
      ]
    },
    {
      "cell_type": "markdown",
      "source": [
        "#Refer to timestamps in the audio file\n",
        "A prompt can specify timestamps of the form MM:SS to refer to particular sections in an audio file. For example, the following prompt requests a transcript that:\n",
        "\n",
        "Starts from the beginning of the file.\n",
        "Ends at 3 minutes 9 seconds from the beginning of the file."
      ],
      "metadata": {
        "id": "z3uLScKrh-8R"
      }
    },
    {
      "cell_type": "code",
      "source": [
        "# Create a prompt containing timestamps.\n",
        "myfile = client.files.upload(file='/content/sample.mp3')\n",
        "prompt = 'Generate a transcript of the audio from the beginning of the audio file to 3 minutes 9 seconds of the file.'\n",
        "\n",
        "response = client.models.generate_content(\n",
        "  model='gemini-2.0-flash',\n",
        "  contents=[prompt, myfile]\n",
        ")\n",
        "\n",
        "print(response.text)"
      ],
      "metadata": {
        "colab": {
          "base_uri": "https://localhost:8080/"
        },
        "id": "S8Bnw8S4wRyq",
        "outputId": "d2c8f9e0-8553-4000-9062-1dbfab1f5610"
      },
      "execution_count": 12,
      "outputs": [
        {
          "output_type": "stream",
          "name": "stdout",
          "text": [
            "I found a love for me. Darling just dive right in follow my lead. I found a girl beautiful and sweet. I never knew you were the someone waiting for me.\n",
            "Cause we were just kids when we fell in love not knowing what it was. I will not give you up this time. Darling just kiss me slow.\n",
            "Your heart is all I own.\n",
            "And in your eyes you're holding mine. Baby, I dancing in the dark with you between my arms.\n",
            "Barefoot on the grass listening to our favorite song. When you said you looked a mess, I whispered underneath my breath, but you heard it.\n",
            "Darling, you look perfect tonight. Well I found a woman stronger than anyone I know. She shares my dreams, I hope that someday I'll share her home.\n",
            "I found a love to carry more than just my secrets. To carry love, to carry children.\n"
          ]
        }
      ]
    },
    {
      "cell_type": "markdown",
      "source": [
        "#Count tokens\n",
        "Call the countTokens method to get a count of the number of tokens in the audio file. For example:"
      ],
      "metadata": {
        "id": "7-1C1fxviUpg"
      }
    },
    {
      "cell_type": "code",
      "source": [
        "#Call the countTokens method to get a count of the number of tokens in the audio file.\n",
        "myfile = client.files.upload(file='/content/sample.mp3')\n",
        "response = client.models.count_tokens(\n",
        "  model='gemini-2.0-flash',\n",
        "  contents=[myfile]\n",
        ")\n",
        "\n",
        "print(response)"
      ],
      "metadata": {
        "colab": {
          "base_uri": "https://localhost:8080/"
        },
        "id": "mpkdtqDqx1xv",
        "outputId": "8c1d108f-c95e-41f7-e6d6-3ffd798a4e17"
      },
      "execution_count": 13,
      "outputs": [
        {
          "output_type": "stream",
          "name": "stdout",
          "text": [
            "total_tokens=4065 cached_content_token_count=None\n"
          ]
        }
      ]
    }
  ]
}