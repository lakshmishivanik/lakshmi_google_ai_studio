{
  "nbformat": 4,
  "nbformat_minor": 0,
  "metadata": {
    "colab": {
      "provenance": [],
      "toc_visible": true,
      "authorship_tag": "ABX9TyNq+U046EB8W5dYEvPLFJpj",
      "include_colab_link": true
    },
    "kernelspec": {
      "name": "python3",
      "display_name": "Python 3"
    },
    "language_info": {
      "name": "python"
    }
  },
  "cells": [
    {
      "cell_type": "markdown",
      "metadata": {
        "id": "view-in-github",
        "colab_type": "text"
      },
      "source": [
        "<a href=\"https://colab.research.google.com/github/lakshmishivanik/lakshmi_google_ai_studio/blob/main/Structured_output.ipynb\" target=\"_parent\"><img src=\"https://colab.research.google.com/assets/colab-badge.svg\" alt=\"Open In Colab\"/></a>"
      ]
    },
    {
      "cell_type": "markdown",
      "source": [
        "#Copyright 2025 Google LLC."
      ],
      "metadata": {
        "id": "M7jdkV4rV2Uo"
      }
    },
    {
      "cell_type": "code",
      "source": [
        "# @title Licensed under the Apache License, Version 2.0 (the \"License\");\n",
        "#\n",
        "# Licensed under the Apache License, Version 2.0 (the \"License\");\n",
        "# you may not use this file except in compliance with the License.\n",
        "# You may obtain a copy of the License at\n",
        "#\n",
        "#     https://www.apache.org/licenses/LICENSE-2.0\n",
        "#\n",
        "# Unless required by applicable law or agreed to in writing, software\n",
        "# distributed under the License is distributed on an \"AS IS\" BASIS,\n",
        "# WITHOUT WARRANTIES OR CONDITIONS OF ANY KIND, either express or implied.\n",
        "# See the License for the specific language governing permissions and\n",
        "# limitations under the License."
      ],
      "metadata": {
        "cellView": "form",
        "id": "WY92Z0MnV8RO"
      },
      "execution_count": null,
      "outputs": []
    },
    {
      "cell_type": "markdown",
      "source": [
        "#Get and secure your API key\n",
        "You need an API key to call the Gemini API. If you don't already have one, create a key in Google AI Studio.\n",
        "\n",
        "Using Colab Secrets, you can ensure that your Gemini API key is managed securely and persistently in your Google Colab notebooks."
      ],
      "metadata": {
        "id": "rdClMfQAHHJV"
      }
    },
    {
      "cell_type": "code",
      "execution_count": 1,
      "metadata": {
        "id": "GC9Cf1BzcYFK"
      },
      "outputs": [],
      "source": [
        "from google.colab import userdata\n",
        "\n",
        "GOOGLE_API_KEY=userdata.get('GOOGLE_GENAI_API_KEY')"
      ]
    },
    {
      "cell_type": "code",
      "execution_count": 2,
      "metadata": {
        "id": "MXR2EZyAaDFB",
        "colab": {
          "base_uri": "https://localhost:8080/"
        },
        "outputId": "523b6ca9-21f7-48c5-d6e1-b91d95e3af52"
      },
      "outputs": [
        {
          "output_type": "stream",
          "name": "stderr",
          "text": [
            "/usr/local/lib/python3.11/dist-packages/pydantic/_internal/_generate_schema.py:502: UserWarning: <built-in function any> is not a Python type (it may be an instance of an object), Pydantic will allow any object with no validation since we cannot even enforce that the input is an instance of the given type. To get rid of this error wrap the type with `pydantic.SkipValidation`.\n",
            "  warn(\n"
          ]
        }
      ],
      "source": [
        "from google import genai\n",
        "\n",
        "client = genai.Client(api_key=GOOGLE_API_KEY)"
      ]
    },
    {
      "cell_type": "markdown",
      "source": [
        "#Generate JSON\n",
        "When the model is configured to output JSON, it responds to any prompt with JSON-formatted output.\n",
        "\n",
        "You can control the structure of the JSON response by supplying a schema. There are two ways to supply a schema to the model:\n",
        "*   As text in the prompt\n",
        "*   As a structured schema supplied through model configuration\n",
        "\n",
        "#Supply a schema as text in the prompt\n",
        "The following example prompts the model to return cookie recipes in a specific JSON format.\n",
        "\n",
        "Since the model gets the format specification from text in the prompt, you may have some flexibility in how you represent the specification. Any reasonable format for representing a JSON schema may work."
      ],
      "metadata": {
        "id": "0kAS0RPGHgNV"
      }
    },
    {
      "cell_type": "code",
      "execution_count": 4,
      "metadata": {
        "colab": {
          "base_uri": "https://localhost:8080/"
        },
        "id": "mr1hTITc8Wkb",
        "outputId": "1ee9acb3-f04b-484b-8c41-378ca31748a7"
      },
      "outputs": [
        {
          "output_type": "stream",
          "name": "stdout",
          "text": [
            "```json\n",
            "[\n",
            "  {\n",
            "    \"recipe_name\": \"Chocolate Chip Cookies\",\n",
            "    \"ingredients\": [\n",
            "      \"2 1/4 cups all-purpose flour\",\n",
            "      \"1 teaspoon baking soda\",\n",
            "      \"1 teaspoon salt\",\n",
            "      \"1 cup (2 sticks) unsalted butter, softened\",\n",
            "      \"3/4 cup granulated sugar\",\n",
            "      \"3/4 cup packed brown sugar\",\n",
            "      \"1 teaspoon vanilla extract\",\n",
            "      \"2 large eggs\",\n",
            "      \"2 cups chocolate chips\"\n",
            "    ]\n",
            "  },\n",
            "  {\n",
            "    \"recipe_name\": \"Peanut Butter Cookies\",\n",
            "    \"ingredients\": [\n",
            "      \"1 cup peanut butter\",\n",
            "      \"1 cup granulated sugar\",\n",
            "      \"1 cup packed brown sugar\",\n",
            "      \"1 teaspoon vanilla extract\",\n",
            "      \"2 large eggs\",\n",
            "      \"1 teaspoon baking soda\"\n",
            "    ]\n",
            "  },\n",
            "  {\n",
            "    \"recipe_name\": \"Oatmeal Raisin Cookies\",\n",
            "    \"ingredients\": [\n",
            "      \"1 1/2 cups all-purpose flour\",\n",
            "      \"1 teaspoon baking soda\",\n",
            "      \"1 teaspoon ground cinnamon\",\n",
            "      \"1/2 teaspoon salt\",\n",
            "      \"1 cup (2 sticks) unsalted butter, softened\",\n",
            "      \"3/4 cup packed brown sugar\",\n",
            "      \"1/2 cup granulated sugar\",\n",
            "      \"2 large eggs\",\n",
            "      \"1 teaspoon vanilla extract\",\n",
            "      \"3 cups rolled oats\",\n",
            "      \"1 cup raisins\"\n",
            "    ]\n",
            "  },\n",
            "  {\n",
            "    \"recipe_name\": \"Sugar Cookies\",\n",
            "    \"ingredients\": [\n",
            "      \"1 1/2 cups (3 sticks) unsalted butter, softened\",\n",
            "      \"2 cups granulated sugar\",\n",
            "      \"4 large eggs\",\n",
            "      \"1 teaspoon vanilla extract\",\n",
            "      \"5 cups all-purpose flour\",\n",
            "      \"2 teaspoons baking powder\",\n",
            "      \"1 teaspoon salt\"\n",
            "    ]\n",
            "  }\n",
            "]\n",
            "```\n"
          ]
        }
      ],
      "source": [
        "from google import genai\n",
        "\n",
        "prompt = \"\"\"List a few popular cookie recipes in JSON format.\n",
        "\n",
        "Use this JSON schema:\n",
        "\n",
        "Recipe = {'recipe_name': str, 'ingredients': list[str]}\n",
        "Return: list[Recipe]\"\"\"\n",
        "\n",
        "client = genai.Client(api_key=GOOGLE_API_KEY)\n",
        "response = client.models.generate_content(\n",
        "    model='gemini-2.0-flash',\n",
        "    contents=prompt,\n",
        ")\n",
        "\n",
        "# Use the response as a JSON string.\n",
        "print(response.text)"
      ]
    },
    {
      "cell_type": "markdown",
      "source": [
        "#Supply a schema through model configuration\n",
        "The following example does the following:\n",
        "\n",
        "Instantiates a model configured through a schema to respond with JSON.\n",
        "\n",
        "*   Instantiates a model configured through a schema to respond with JSON.\n",
        "*   Prompts the model to return cookie recipes.\n",
        "\n",
        "This more formal method for declaring the JSON schema gives you more precise control than relying just on text in the prompt.\n",
        "\n",
        "Important: When you're working with JSON schemas in the Gemini API, the order of properties matters. For more information, see Property ordering."
      ],
      "metadata": {
        "id": "4xMFm9oKII5P"
      }
    },
    {
      "cell_type": "code",
      "source": [
        "from google import genai\n",
        "from pydantic import BaseModel\n",
        "\n",
        "\n",
        "class Recipe(BaseModel):\n",
        "  recipe_name: str\n",
        "  ingredients: list[str]\n",
        "\n",
        "\n",
        "client = genai.Client(api_key=GOOGLE_API_KEY)\n",
        "response = client.models.generate_content(\n",
        "    model='gemini-2.0-flash',\n",
        "    contents='List a few popular cookie recipes. Be sure to include the amounts of ingredients.',\n",
        "    config={\n",
        "        'response_mime_type': 'application/json',\n",
        "        'response_schema': list[Recipe],\n",
        "    },\n",
        ")\n",
        "# Use the response as a JSON string.\n",
        "print(response.text)\n",
        "\n",
        "# Use instantiated objects.\n",
        "my_recipes: list[Recipe] = response.parsed"
      ],
      "metadata": {
        "colab": {
          "base_uri": "https://localhost:8080/"
        },
        "id": "FQHQaNS8-JDF",
        "outputId": "6b87d775-e86b-4d54-bf75-f5c24561ee9d"
      },
      "execution_count": 5,
      "outputs": [
        {
          "output_type": "stream",
          "name": "stdout",
          "text": [
            "[\n",
            "  {\n",
            "    \"ingredients\": [\n",
            "      \"1 cup (2 sticks) unsalted butter, softened\",\n",
            "      \"1 cup granulated sugar\",\n",
            "      \"1 cup packed brown sugar\",\n",
            "      \"2 large eggs\",\n",
            "      \"1 teaspoon vanilla extract\",\n",
            "      \"3 cups all-purpose flour\",\n",
            "      \"1 teaspoon baking soda\",\n",
            "      \"1/2 teaspoon salt\",\n",
            "      \"2 cups chocolate chips\"\n",
            "    ],\n",
            "    \"recipe_name\": \"Chocolate Chip Cookies\"\n",
            "  },\n",
            "  {\n",
            "    \"ingredients\": [\n",
            "      \"1 cup (2 sticks) unsalted butter, softened\",\n",
            "      \"1 1/2 cups powdered sugar\",\n",
            "      \"1 teaspoon vanilla extract\",\n",
            "      \"2 1/4 cups all-purpose flour\",\n",
            "      \"1/4 teaspoon salt\"\n",
            "    ],\n",
            "    \"recipe_name\": \"Peanut Butter Blossoms\"\n",
            "  },\n",
            "  {\n",
            "    \"ingredients\": [\n",
            "      \"1 cup (2 sticks) unsalted butter, softened\",\n",
            "      \"3/4 cup granulated sugar\",\n",
            "      \"3/4 cup packed brown sugar\",\n",
            "      \"1 teaspoon vanilla extract\",\n",
            "      \"2 large eggs\",\n",
            "      \"2 1/4 cups all-purpose flour\",\n",
            "      \"1 teaspoon baking soda\",\n",
            "      \"1 teaspoon ground cinnamon\",\n",
            "      \"1/2 teaspoon salt\",\n",
            "      \"3 cups rolled oats\",\n",
            "      \"1 cup raisins\"\n",
            "    ],\n",
            "    \"recipe_name\": \"Oatmeal Raisin Cookies\"\n",
            "  }\n",
            "]\n"
          ]
        }
      ]
    },
    {
      "cell_type": "markdown",
      "source": [
        "#Schema Definition Syntax\n",
        "Specify the schema for the JSON response in the response_schema property of your model configuration. The value of response_schema must be a either:\n",
        "\n",
        "A type, as you would use in a type annotation. See the Python typing module.\n",
        "An instance of genai.types.Schema.\n",
        "The dict equivalent of genai.types.Schema.\n",
        "\n",
        "*   A type, as you would use in a type annotation. See the Python typing module.\n",
        "*   An instance of genai.types.Schema.\n",
        "*   The dict equivalent of genai.types.Schema.\n",
        "\n",
        "#Define a Schema with a Type\n",
        "The easiest way to define a schema is with a direct type. This is the approach used in the preceding example:"
      ],
      "metadata": {
        "id": "xwOCIOWRIgwh"
      }
    },
    {
      "cell_type": "code",
      "source": [
        "config={'response_mime_type': 'application/json',\n",
        "        'response_schema': list[Recipe]}"
      ],
      "metadata": {
        "id": "YWHEIFWXAJUo"
      },
      "execution_count": 6,
      "outputs": []
    },
    {
      "cell_type": "markdown",
      "source": [
        "The Gemini API Python client library supports schemas defined with the following types (where AllowedType is any allowed type):\n",
        "\n",
        "int\n",
        "\n",
        "float\n",
        "\n",
        "bool\n",
        "\n",
        "str\n",
        "\n",
        "list[AllowedType]\n",
        "\n",
        "For structured types:\n",
        "\n",
        "dict[str, AllowedType]. This annotation declares all dict values to be the same type, but doesn't specify what keys should be included.\n",
        "User-defined Pydantic models. This approach lets you specify the key names and define different types for the values associated with each of the keys, including nested structures."
      ],
      "metadata": {
        "id": "znNZUmIdJQzp"
      }
    },
    {
      "cell_type": "markdown",
      "source": [
        "#Use an enum to constrain output\n",
        "In some cases you might want the model to choose a single option from a list of options. To implement this behavior, you can pass an enum in your schema. You can use an enum option anywhere you could use a str in the response_schema, because an enum is a list of strings. Like a JSON schema, an enum lets you constrain model output to meet the requirements of your application.\n",
        "\n",
        "For example, assume that you're developing an application to classify musical instruments into one of five categories: \"Percussion\", \"String\", \"Woodwind\", \"Brass\", or \"\"Keyboard\"\". You could create an enum to help with this task.\n",
        "\n",
        "In the following example, you pass the enum class Instrument as the response_schema, and the model should choose the most appropriate enum option."
      ],
      "metadata": {
        "id": "HcI5DRNbJRiW"
      }
    },
    {
      "cell_type": "code",
      "source": [
        "from google import genai\n",
        "import enum\n",
        "\n",
        "class Instrument(enum.Enum):\n",
        "  PERCUSSION = \"Percussion\"\n",
        "  STRING = \"String\"\n",
        "  WOODWIND = \"Woodwind\"\n",
        "  BRASS = \"Brass\"\n",
        "  KEYBOARD = \"Keyboard\"\n",
        "\n",
        "client = genai.Client(api_key=GOOGLE_API_KEY)\n",
        "response = client.models.generate_content(\n",
        "    model='gemini-2.0-flash',\n",
        "    contents='What type of instrument is an oboe?',\n",
        "    config={\n",
        "        'response_mime_type': 'text/x.enum',\n",
        "        'response_schema': Instrument,\n",
        "    },\n",
        ")\n",
        "\n",
        "print(response.text)\n",
        "# Woodwind"
      ],
      "metadata": {
        "colab": {
          "base_uri": "https://localhost:8080/"
        },
        "id": "JMYumQ3vAi05",
        "outputId": "055731b6-f4b0-4253-fb63-0361e28afa16"
      },
      "execution_count": 7,
      "outputs": [
        {
          "output_type": "stream",
          "name": "stdout",
          "text": [
            "Woodwind\n"
          ]
        }
      ]
    },
    {
      "cell_type": "markdown",
      "source": [
        "The Python SDK will translate the type declarations for the API. However, the API accepts a subset of the OpenAPI 3.0 schema (Schema). You can also pass the schema as JSON:"
      ],
      "metadata": {
        "id": "NmiS6CtwKGQ_"
      }
    },
    {
      "cell_type": "code",
      "source": [
        "from google import genai\n",
        "\n",
        "client = genai.Client(api_key=GOOGLE_API_KEY)\n",
        "response = client.models.generate_content(\n",
        "    model='gemini-2.0-flash',\n",
        "    contents='What type of instrument is an oboe?',\n",
        "    config={\n",
        "        'response_mime_type': 'text/x.enum',\n",
        "        'response_schema': {\n",
        "            \"type\": \"STRING\",\n",
        "            \"enum\": [\"Percussion\", \"String\", \"Woodwind\", \"Brass\", \"Keyboard\"],\n",
        "        },\n",
        "    },\n",
        ")\n",
        "\n",
        "print(response.text)\n",
        "# Woodwind"
      ],
      "metadata": {
        "colab": {
          "base_uri": "https://localhost:8080/"
        },
        "id": "49kL-R52BTnX",
        "outputId": "649ea353-f5da-472e-e4bf-857af06b2d21"
      },
      "execution_count": 8,
      "outputs": [
        {
          "output_type": "stream",
          "name": "stdout",
          "text": [
            "Woodwind\n"
          ]
        }
      ]
    },
    {
      "cell_type": "markdown",
      "source": [
        "Beyond basic multiple choice problems, you can use an enum anywhere in a schema for JSON or function calling. For example, you could ask the model for a list of recipe titles and use a Grade enum to give each title a popularity grade:"
      ],
      "metadata": {
        "id": "gz5MaidHKRB4"
      }
    },
    {
      "cell_type": "code",
      "source": [
        "from google import genai\n",
        "\n",
        "import enum\n",
        "from pydantic import BaseModel\n",
        "\n",
        "class Grade(enum.Enum):\n",
        "    A_PLUS = \"a+\"\n",
        "    A = \"a\"\n",
        "    B = \"b\"\n",
        "    C = \"c\"\n",
        "    D = \"d\"\n",
        "    F = \"f\"\n",
        "\n",
        "class Recipe(BaseModel):\n",
        "  recipe_name: str\n",
        "  rating: Grade\n",
        "\n",
        "client = genai.Client(api_key=GOOGLE_API_KEY)\n",
        "response = client.models.generate_content(\n",
        "    model='gemini-2.0-flash',\n",
        "    contents='List 10 home-baked cookies and give them grades based on tastiness.',\n",
        "    config={\n",
        "        'response_mime_type': 'application/json',\n",
        "        'response_schema': list[Recipe],\n",
        "    },\n",
        ")\n",
        "\n",
        "print(response.text)\n",
        "# [{\"rating\": \"a+\", \"recipe_name\": \"Classic Chocolate Chip Cookies\"}, ...]"
      ],
      "metadata": {
        "colab": {
          "base_uri": "https://localhost:8080/"
        },
        "id": "jRUGGeTzBaP9",
        "outputId": "ebc8fb3c-32ef-4241-9304-bfcfd6a9405e"
      },
      "execution_count": 9,
      "outputs": [
        {
          "output_type": "stream",
          "name": "stdout",
          "text": [
            "[\n",
            "  {\n",
            "    \"rating\": \"a+\",\n",
            "    \"recipe_name\": \"Chocolate Chip Cookies\"\n",
            "  },\n",
            "  {\n",
            "    \"rating\": \"a\",\n",
            "    \"recipe_name\": \"Peanut Butter Cookies\"\n",
            "  },\n",
            "  {\n",
            "    \"rating\": \"a\",\n",
            "    \"recipe_name\": \"Oatmeal Raisin Cookies\"\n",
            "  },\n",
            "  {\n",
            "    \"rating\": \"b\",\n",
            "    \"recipe_name\": \"Sugar Cookies\"\n",
            "  },\n",
            "  {\n",
            "    \"rating\": \"b\",\n",
            "    \"recipe_name\": \"Snickerdoodle Cookies\"\n",
            "  },\n",
            "  {\n",
            "    \"rating\": \"b\",\n",
            "    \"recipe_name\": \"Gingerbread Cookies\"\n",
            "  },\n",
            "  {\n",
            "    \"rating\": \"c\",\n",
            "    \"recipe_name\": \"Shortbread Cookies\"\n",
            "  },\n",
            "  {\n",
            "    \"rating\": \"c\",\n",
            "    \"recipe_name\": \"Biscotti Cookies\"\n",
            "  },\n",
            "  {\n",
            "    \"rating\": \"d\",\n",
            "    \"recipe_name\": \"Pfeffernusse Cookies\"\n",
            "  },\n",
            "  {\n",
            "    \"rating\": \"f\",\n",
            "    \"recipe_name\": \"Coconut Macaroon Cookies\"\n",
            "  }\n",
            "]\n"
          ]
        }
      ]
    },
    {
      "cell_type": "markdown",
      "source": [
        "#More about JSON schemas\n",
        "When you configure the model to return a JSON response, you can use a Schema object to define the shape of the JSON data. The Schema represents a select subset of the OpenAPI 3.0 Schema object.\n",
        "\n",
        "The Type of the schema must be one of the OpenAPI Data Types. Only a subset of fields is valid for each Type. The following list maps each Type to valid fields for that type:\n",
        "\n",
        "string -> enum, format\n",
        "\n",
        "integer -> format\n",
        "\n",
        "number -> format\n",
        "\n",
        "bool\n",
        "\n",
        "array -> minItems, maxItems, items\n",
        "\n",
        "object -> properties, required, propertyOrdering, nullable\n",
        "\n",
        "Here are some example schemas showing valid type-and-field combinations:"
      ],
      "metadata": {
        "id": "e6qoq6UaK1bc"
      }
    },
    {
      "cell_type": "code",
      "source": [
        "{ \"type\": \"STRING\", \"enum\": [\"a\", \"b\", \"c\"] }\n",
        "\n",
        "{ \"type\": \"STRING\", \"format\": \"datetime\" }\n",
        "\n",
        "{ \"type\": \"INTEGER\", \"format\": \"int64\" }\n",
        "\n",
        "{ \"type\": \"NUMBER\", \"format\": \"double\" }\n",
        "\n",
        "{ \"type\": \"BOOL\" }\n",
        "\n",
        "{ \"type\": \"ARRAY\", \"minItems\": 3, \"maxItems\": 3, \"items\": { \"type\": ... } }\n",
        "\n",
        "{ \"type\": \"OBJECT\",\n",
        "  \"properties\": {\n",
        "    \"a\": { \"type\": ... },\n",
        "    \"b\": {\"type\": ... },\n",
        "    \"c\": {\"type\": ... }\n",
        "  },\n",
        "  \"nullable\": [\"a\"],\n",
        "  \"required\": [\"c\"],\n",
        "  \"property_orderring\": [\"c\", \"b\", \"a\"]\n",
        "}"
      ],
      "metadata": {
        "colab": {
          "base_uri": "https://localhost:8080/"
        },
        "id": "pkpZmJffFmCp",
        "outputId": "f053a0f1-967e-40bf-ba51-4194d0cba4de"
      },
      "execution_count": 19,
      "outputs": [
        {
          "output_type": "execute_result",
          "data": {
            "text/plain": [
              "{'type': 'OBJECT',\n",
              " 'properties': {'a': {'type': Ellipsis},\n",
              "  'b': {'type': Ellipsis},\n",
              "  'c': {'type': Ellipsis}},\n",
              " 'nullable': ['a'],\n",
              " 'required': ['c'],\n",
              " 'property_orderring': ['c', 'b', 'a']}"
            ]
          },
          "metadata": {},
          "execution_count": 19
        }
      ]
    }
  ]
}